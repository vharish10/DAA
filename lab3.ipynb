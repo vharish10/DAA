{
 "cells": [
  {
   "cell_type": "code",
   "execution_count": 5,
   "metadata": {},
   "outputs": [
    {
     "name": "stdout",
     "output_type": "stream",
     "text": [
      "Pair found: [2, 8]\n"
     ]
    }
   ],
   "source": [
    "def find_pair_with_sum(arr, target_sum):\n",
    "    num_indices = {}\n",
    "\n",
    "    # Iterate through the array\n",
    "    for i in range(len(arr)):\n",
    "        num = arr[i]\n",
    "        # Calculate the difference between the target sum and the current element\n",
    "        difference = target_sum - num\n",
    "        \n",
    "        # If the difference exists in the dictionary, return the pair\n",
    "        if difference in num_indices:\n",
    "            return [num, difference]\n",
    "        \n",
    "        # Otherwise, store the current element and its index in the dictionary\n",
    "        num_indices[num] = i\n",
    "    \n",
    "    # If no pair is found, return None\n",
    "    return None\n",
    "\n",
    "# Example usage:\n",
    "arr = [8, 7, 2, 5, 3, 1]\n",
    "target_sum = 10\n",
    "pair = find_pair_with_sum(arr, target_sum)\n",
    "if pair:\n",
    "    print(\"Pair found:\", pair)\n",
    "else:\n",
    "    print(\"Pair not found\")\n"
   ]
  },
  {
   "cell_type": "code",
   "execution_count": 6,
   "metadata": {},
   "outputs": [
    {
     "name": "stdout",
     "output_type": "stream",
     "text": [
      "Pair with maximum product: 180\n"
     ]
    }
   ],
   "source": [
    "def max_product_pair(arr):\n",
    "    if len(arr) < 2:\n",
    "        return None\n",
    "    \n",
    "    # Sort the array\n",
    "    arr.sort()\n",
    "    \n",
    "    # Case 1: If there are no negative numbers or there are only two numbers,\n",
    "    # the maximum product will be the product of the two largest numbers\n",
    "    if arr[0] >= 0 or len(arr) == 2:\n",
    "        return arr[-2:]\n",
    "\n",
    "    # Case 2: If there are negative numbers present,\n",
    "    # the maximum product will be either the product of the two largest positive numbers\n",
    "    # or the product of the two smallest negative numbers and the largest positive number\n",
    "    return max(arr[-1] * arr[-2], arr[0] * arr[1] * arr[-1])\n",
    "\n",
    "# Example usage:\n",
    "arr = [-10, -3, 5, 6, -2]\n",
    "result = max_product_pair(arr)\n",
    "print(\"Pair with maximum product:\", result)\n"
   ]
  },
  {
   "cell_type": "code",
   "execution_count": 7,
   "metadata": {},
   "outputs": [
    {
     "name": "stdout",
     "output_type": "stream",
     "text": [
      "Sorted array: [3, 5, 6, 7, 8, 9]\n"
     ]
    }
   ],
   "source": [
    "def sort_array(arr):\n",
    "    n = len(arr)\n",
    "    first_out_of_order = None\n",
    "    second_out_of_order = None\n",
    "\n",
    "    # Traverse the array to find the two elements that are out of place\n",
    "    for i in range(n - 1):\n",
    "        if arr[i] > arr[i + 1]:\n",
    "            if first_out_of_order is None:\n",
    "                first_out_of_order = i\n",
    "            else:\n",
    "                second_out_of_order = i + 1\n",
    "                break\n",
    "\n",
    "    # If second_out_of_order is still None, it means the swapped elements are adjacent\n",
    "    if second_out_of_order is None:\n",
    "        second_out_of_order = first_out_of_order + 1\n",
    "\n",
    "    # Swap the two out-of-place elements to correct their positions\n",
    "    arr[first_out_of_order], arr[second_out_of_order] = arr[second_out_of_order], arr[first_out_of_order]\n",
    "\n",
    "    return arr\n",
    "\n",
    "# Example usage:\n",
    "arr = [3, 8, 6, 7, 5, 9]\n",
    "sorted_arr = sort_array(arr)\n",
    "print(\"Sorted array:\", sorted_arr)\n"
   ]
  },
  {
   "cell_type": "code",
   "execution_count": 8,
   "metadata": {},
   "outputs": [
    {
     "name": "stdout",
     "output_type": "stream",
     "text": [
      "Segregated array: [0, 0, 0, 0, 1, 1, 1, 1]\n"
     ]
    }
   ],
   "source": [
    "def segregate_zeros_ones(arr):\n",
    "    left = 0\n",
    "    right = len(arr) - 1\n",
    "\n",
    "    while left < right:\n",
    "        # Move left pointer until it encounters a 1\n",
    "        while arr[left] == 0 and left < right:\n",
    "            left += 1\n",
    "        \n",
    "        # Move right pointer until it encounters a 0\n",
    "        while arr[right] == 1 and left < right:\n",
    "            right -= 1\n",
    "        \n",
    "        # Swap the elements at left and right pointers\n",
    "        if left < right:\n",
    "            arr[left], arr[right] = arr[right], arr[left]\n",
    "            left += 1\n",
    "            right -= 1\n",
    "\n",
    "    return arr\n",
    "\n",
    "# Example usage:\n",
    "binary_array = [0, 1, 0, 1, 1, 0, 0, 1]\n",
    "segregated_array = segregate_zeros_ones(binary_array)\n",
    "print(\"Segregated array:\", segregated_array)\n"
   ]
  },
  {
   "cell_type": "code",
   "execution_count": 9,
   "metadata": {},
   "outputs": [
    {
     "name": "stdout",
     "output_type": "stream",
     "text": [
      "Segregated array: [0, 0, 0, 0, 1, 1, 1, 1]\n"
     ]
    }
   ],
   "source": [
    "def segregate_zeros_ones(arr):\n",
    "    left = 0\n",
    "    right = len(arr) - 1\n",
    "\n",
    "    while left < right:\n",
    "        # Move left pointer until it encounters a 1\n",
    "        while arr[left] == 0 and left < right:\n",
    "            left += 1\n",
    "        \n",
    "        # Move right pointer until it encounters a 0\n",
    "        while arr[right] == 1 and left < right:\n",
    "            right -= 1\n",
    "        \n",
    "        # Swap the elements at left and right pointers\n",
    "        if left < right:\n",
    "            arr[left], arr[right] = arr[right], arr[left]\n",
    "            left += 1\n",
    "            right -= 1\n",
    "\n",
    "    return arr\n",
    "\n",
    "# Example usage:\n",
    "binary_array = [0, 1, 0, 1, 1, 0, 0, 1]\n",
    "segregated_array = segregate_zeros_ones(binary_array)\n",
    "print(\"Segregated array:\", segregated_array)\n"
   ]
  },
  {
   "cell_type": "code",
   "execution_count": 10,
   "metadata": {},
   "outputs": [
    {
     "name": "stdout",
     "output_type": "stream",
     "text": [
      "Total count of inversions: 8\n"
     ]
    }
   ],
   "source": [
    "def merge(arr, left, mid, right):\n",
    "    # Split the array into two halves\n",
    "    left_half = arr[left:mid + 1]\n",
    "    right_half = arr[mid + 1:right + 1]\n",
    "\n",
    "    # Initialize pointers for left and right halves\n",
    "    i = j = 0\n",
    "    inv_count = 0  # Initialize inversion count\n",
    "\n",
    "    # Merge the two halves back into the original array\n",
    "    for k in range(left, right + 1):\n",
    "        # If all elements from left half have been merged\n",
    "        if i == len(left_half):\n",
    "            arr[k] = right_half[j]\n",
    "            j += 1\n",
    "        # If all elements from right half have been merged\n",
    "        elif j == len(right_half):\n",
    "            arr[k] = left_half[i]\n",
    "            i += 1\n",
    "        # If element from right half is smaller, it means an inversion\n",
    "        elif left_half[i] > right_half[j]:\n",
    "            arr[k] = right_half[j]\n",
    "            j += 1\n",
    "            inv_count += (mid - left + 1) - i\n",
    "        else:\n",
    "            arr[k] = left_half[i]\n",
    "            i += 1\n",
    "\n",
    "    return inv_count\n",
    "\n",
    "def merge_sort(arr, left, right):\n",
    "    inv_count = 0  # Initialize inversion count\n",
    "\n",
    "    if left < right:\n",
    "        mid = (left + right) // 2\n",
    "\n",
    "        # Recursively sort left and right halves\n",
    "        inv_count += merge_sort(arr, left, mid)\n",
    "        inv_count += merge_sort(arr, mid + 1, right)\n",
    "\n",
    "        # Merge the sorted halves and count inversions\n",
    "        inv_count += merge(arr, left, mid, right)\n",
    "\n",
    "    return inv_count\n",
    "\n",
    "def inversion_count(arr):\n",
    "    # Call merge_sort function with array, left index, and right index\n",
    "    return merge_sort(arr, 0, len(arr) - 1)\n",
    "\n",
    "# Example usage:\n",
    "arr = [10, 1, 2, 4, 13, 9, 5]\n",
    "count = inversion_count(arr)\n",
    "print(\"Total count of inversions:\", count)\n"
   ]
  },
  {
   "cell_type": "code",
   "execution_count": 11,
   "metadata": {},
   "outputs": [
    {
     "name": "stdout",
     "output_type": "stream",
     "text": [
      "Does two numbers sum to 10 ? True\n"
     ]
    }
   ],
   "source": [
    "def two_sum_n2(arr, K):\n",
    "    n = len(arr)\n",
    "    for i in range(n):\n",
    "        for j in range(i + 1, n):\n",
    "            if arr[i] + arr[j] == K:\n",
    "                return True\n",
    "    return False\n",
    "\n",
    "# Example usage:\n",
    "arr = [8, 4, 1, 6]\n",
    "K = 10\n",
    "result = two_sum_n2(arr, K)\n",
    "print(\"Does two numbers sum to\", K, \"?\", result)\n"
   ]
  },
  {
   "cell_type": "code",
   "execution_count": 12,
   "metadata": {},
   "outputs": [
    {
     "name": "stdout",
     "output_type": "stream",
     "text": [
      "Does two numbers sum to 10 ? True\n"
     ]
    }
   ],
   "source": [
    "def two_sum_nlogn(arr, K):\n",
    "    arr.sort()  # Sort the array\n",
    "    left = 0\n",
    "    right = len(arr) - 1\n",
    "\n",
    "    while left < right:\n",
    "        if arr[left] + arr[right] == K:\n",
    "            return True\n",
    "        elif arr[left] + arr[right] < K:\n",
    "            left += 1\n",
    "        else:\n",
    "            right -= 1\n",
    "\n",
    "    return False\n",
    "\n",
    "# Example usage:\n",
    "arr = [8, 4, 1, 6]\n",
    "K = 10\n",
    "result = two_sum_nlogn(arr, K)\n",
    "print(\"Does two numbers sum to\", K, \"?\", result)\n"
   ]
  }
 ],
 "metadata": {
  "kernelspec": {
   "display_name": "Python 3",
   "language": "python",
   "name": "python3"
  },
  "language_info": {
   "codemirror_mode": {
    "name": "ipython",
    "version": 3
   },
   "file_extension": ".py",
   "mimetype": "text/x-python",
   "name": "python",
   "nbconvert_exporter": "python",
   "pygments_lexer": "ipython3",
   "version": "3.11.5"
  }
 },
 "nbformat": 4,
 "nbformat_minor": 2
}
